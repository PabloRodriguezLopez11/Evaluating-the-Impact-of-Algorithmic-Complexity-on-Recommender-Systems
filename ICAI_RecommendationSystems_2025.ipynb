{
 "cells": [
  {
   "cell_type": "markdown",
   "metadata": {
    "id": "Ho5Kia5mln9B"
   },
   "source": [
    "#**Recommendation Systems**\n",
    "\n",
    "> In this notebook, the different recommendation systems available in the Cornac library will be executed.\n",
    "\n"
   ]
  },
  {
   "cell_type": "markdown",
   "metadata": {
    "id": "eo2RQ-o1l6j5"
   },
   "source": [
    "#**1.- DATASET LOADING**"
   ]
  },
  {
   "cell_type": "code",
   "source": [
    "# Download the  dataset in compressed JSON Lines format from a web archive URL\n",
    "!wget -O Gift_Cards.jsonl.gz https://web.archive.org/web/20240314164222/https://datarepo.eng.ucsd.edu/mcauley_group/data/amazon_2023/raw/review_categories/Gift_Cards.jsonl.gz --no-check-certificate\n",
    "\n",
    "# Remove any existing uncompressed file named 'xxxxx.jsonl' to avoid conflicts\n",
    "!rm -f Gift_Cards.jsonl\n",
    "\n",
    "# Decompress the downloaded gzip file to obtain 'xxxxx.jsonl'\n",
    "!gzip -d Gift_Cards.jsonl.gz\n"
   ],
   "metadata": {
    "colab": {
     "base_uri": "https://localhost:8080/"
    },
    "id": "VXW0GnYO6ccN",
    "outputId": "9d9a43cf-d463-43a3-8ecd-7245d10e0593"
   },
   "execution_count": null,
   "outputs": [
    {
     "output_type": "stream",
     "name": "stdout",
     "text": [
      "--2025-07-03 09:33:52--  https://web.archive.org/web/20240314164222/https://datarepo.eng.ucsd.edu/mcauley_group/data/amazon_2023/raw/review_categories/Gift_Cards.jsonl.gz\n",
      "Resolving web.archive.org (web.archive.org)... 207.241.237.3\n",
      "Connecting to web.archive.org (web.archive.org)|207.241.237.3|:443... connected.\n",
      "HTTP request sent, awaiting response... 200 OK\n",
      "Length: 12556849 (12M) [application/x-gzip]\n",
      "Saving to: ‘Gift_Cards.jsonl.gz’\n",
      "\n",
      "Gift_Cards.jsonl.gz 100%[===================>]  11.97M  20.8MB/s    in 0.6s    \n",
      "\n",
      "2025-07-03 09:33:54 (20.8 MB/s) - ‘Gift_Cards.jsonl.gz’ saved [12556849/12556849]\n",
      "\n"
     ]
    }
   ]
  },
  {
   "cell_type": "markdown",
   "metadata": {
    "id": "ez_Gjrm6Xarl"
   },
   "source": [
    "#**1.2.- PACKAGE LOADING**"
   ]
  },
  {
   "cell_type": "code",
   "execution_count": null,
   "metadata": {
    "colab": {
     "base_uri": "https://localhost:8080/"
    },
    "id": "Zh6Gs1wyonH3",
    "outputId": "f0c3caf4-d37f-4223-ea32-efa1c6bb8d9c"
   },
   "outputs": [
    {
     "output_type": "stream",
     "name": "stdout",
     "text": [
      "Collecting cornac\n",
      "  Downloading cornac-2.3.3-cp311-cp311-manylinux1_x86_64.whl.metadata (51 kB)\n",
      "\u001b[?25l     \u001b[90m━━━━━━━━━━━━━━━━━━━━━━━━━━━━━━━━━━━━━━━━\u001b[0m \u001b[32m0.0/51.4 kB\u001b[0m \u001b[31m?\u001b[0m eta \u001b[36m-:--:--\u001b[0m\r\u001b[2K     \u001b[90m━━━━━━━━━━━━━━━━━━━━━━━━━━━━━━━━━━━━━━━━\u001b[0m \u001b[32m51.4/51.4 kB\u001b[0m \u001b[31m2.5 MB/s\u001b[0m eta \u001b[36m0:00:00\u001b[0m\n",
      "\u001b[?25hRequirement already satisfied: numpy>2.0.0 in /usr/local/lib/python3.11/dist-packages (from cornac) (2.0.2)\n",
      "Requirement already satisfied: scipy in /usr/local/lib/python3.11/dist-packages (from cornac) (1.15.3)\n",
      "Requirement already satisfied: tqdm in /usr/local/lib/python3.11/dist-packages (from cornac) (4.67.1)\n",
      "Collecting powerlaw (from cornac)\n",
      "  Downloading powerlaw-1.5-py3-none-any.whl.metadata (9.3 kB)\n",
      "Requirement already satisfied: matplotlib in /usr/local/lib/python3.11/dist-packages (from powerlaw->cornac) (3.10.0)\n",
      "Requirement already satisfied: mpmath in /usr/local/lib/python3.11/dist-packages (from powerlaw->cornac) (1.3.0)\n",
      "Requirement already satisfied: contourpy>=1.0.1 in /usr/local/lib/python3.11/dist-packages (from matplotlib->powerlaw->cornac) (1.3.2)\n",
      "Requirement already satisfied: cycler>=0.10 in /usr/local/lib/python3.11/dist-packages (from matplotlib->powerlaw->cornac) (0.12.1)\n",
      "Requirement already satisfied: fonttools>=4.22.0 in /usr/local/lib/python3.11/dist-packages (from matplotlib->powerlaw->cornac) (4.58.4)\n",
      "Requirement already satisfied: kiwisolver>=1.3.1 in /usr/local/lib/python3.11/dist-packages (from matplotlib->powerlaw->cornac) (1.4.8)\n",
      "Requirement already satisfied: packaging>=20.0 in /usr/local/lib/python3.11/dist-packages (from matplotlib->powerlaw->cornac) (24.2)\n",
      "Requirement already satisfied: pillow>=8 in /usr/local/lib/python3.11/dist-packages (from matplotlib->powerlaw->cornac) (11.2.1)\n",
      "Requirement already satisfied: pyparsing>=2.3.1 in /usr/local/lib/python3.11/dist-packages (from matplotlib->powerlaw->cornac) (3.2.3)\n",
      "Requirement already satisfied: python-dateutil>=2.7 in /usr/local/lib/python3.11/dist-packages (from matplotlib->powerlaw->cornac) (2.9.0.post0)\n",
      "Requirement already satisfied: six>=1.5 in /usr/local/lib/python3.11/dist-packages (from python-dateutil>=2.7->matplotlib->powerlaw->cornac) (1.17.0)\n",
      "Downloading cornac-2.3.3-cp311-cp311-manylinux1_x86_64.whl (31.5 MB)\n",
      "\u001b[2K   \u001b[90m━━━━━━━━━━━━━━━━━━━━━━━━━━━━━━━━━━━━━━━━\u001b[0m \u001b[32m31.5/31.5 MB\u001b[0m \u001b[31m15.3 MB/s\u001b[0m eta \u001b[36m0:00:00\u001b[0m\n",
      "\u001b[?25hDownloading powerlaw-1.5-py3-none-any.whl (24 kB)\n",
      "Installing collected packages: powerlaw, cornac\n",
      "Successfully installed cornac-2.3.3 powerlaw-1.5\n"
     ]
    }
   ],
   "source": [
    "# Install the Cornac library\n",
    "!pip install cornac\n",
    "\n",
    "# Import the Cornac library and relevant modules for evaluation, models, and metrics\n",
    "import cornac\n",
    "from cornac.eval_methods import RatioSplit  # For splitting data into train/test sets\n",
    "from cornac.models import MF, PMF, BPR, VAECF, COE, HPF, IBPR, OnlineIBPR  # Different recommendation algorithms\n",
    "from cornac.metrics import FMeasure, Precision, Recall, NDCG, AUC, MAP  # Evaluation metrics for recommendation quality\n",
    "\n",
    "# Import random module for any randomization needs in experiments or data processing\n",
    "import random\n",
    "\n"
   ]
  },
  {
   "cell_type": "markdown",
   "metadata": {
    "id": "QC4ZhtzZn4eP"
   },
   "source": [
    "#**2.- CORNAC LIBRARY DATA LOADING**"
   ]
  },
  {
   "cell_type": "code",
   "execution_count": null,
   "metadata": {
    "colab": {
     "base_uri": "https://localhost:8080/",
     "height": 206
    },
    "id": "_kzSohxToAIf",
    "outputId": "ad76be7e-d7bf-483f-a1df-37dd317ad91f"
   },
   "outputs": [
    {
     "output_type": "execute_result",
     "data": {
      "text/plain": [
       "                        user_id        item  rating\n",
       "0  AHZ6XMOLEWA67S3TX7IWEXXGWSOA  B00IX1I3G6     5.0\n",
       "1  AFZUK3MTBIBEDQOPAK3OATUOUKLA  B005ESMMWW     5.0\n",
       "2  AFZUK3MTBIBEDQOPAK3OATUOUKLA  B01K8RIM5Y     5.0\n",
       "3  AFZUK3MTBIBEDQOPAK3OATUOUKLA  B0091JKVU0     5.0\n",
       "4  AH5L7ILVA6HYLZOUZIQAWNHVVK3A  B00FTGTM5E     1.0"
      ],
      "text/html": [
       "\n",
       "  <div id=\"df-ad0d4b66-afe4-457d-9b30-0498dc9864f3\" class=\"colab-df-container\">\n",
       "    <div>\n",
       "<style scoped>\n",
       "    .dataframe tbody tr th:only-of-type {\n",
       "        vertical-align: middle;\n",
       "    }\n",
       "\n",
       "    .dataframe tbody tr th {\n",
       "        vertical-align: top;\n",
       "    }\n",
       "\n",
       "    .dataframe thead th {\n",
       "        text-align: right;\n",
       "    }\n",
       "</style>\n",
       "<table border=\"1\" class=\"dataframe\">\n",
       "  <thead>\n",
       "    <tr style=\"text-align: right;\">\n",
       "      <th></th>\n",
       "      <th>user_id</th>\n",
       "      <th>item</th>\n",
       "      <th>rating</th>\n",
       "    </tr>\n",
       "  </thead>\n",
       "  <tbody>\n",
       "    <tr>\n",
       "      <th>0</th>\n",
       "      <td>AHZ6XMOLEWA67S3TX7IWEXXGWSOA</td>\n",
       "      <td>B00IX1I3G6</td>\n",
       "      <td>5.0</td>\n",
       "    </tr>\n",
       "    <tr>\n",
       "      <th>1</th>\n",
       "      <td>AFZUK3MTBIBEDQOPAK3OATUOUKLA</td>\n",
       "      <td>B005ESMMWW</td>\n",
       "      <td>5.0</td>\n",
       "    </tr>\n",
       "    <tr>\n",
       "      <th>2</th>\n",
       "      <td>AFZUK3MTBIBEDQOPAK3OATUOUKLA</td>\n",
       "      <td>B01K8RIM5Y</td>\n",
       "      <td>5.0</td>\n",
       "    </tr>\n",
       "    <tr>\n",
       "      <th>3</th>\n",
       "      <td>AFZUK3MTBIBEDQOPAK3OATUOUKLA</td>\n",
       "      <td>B0091JKVU0</td>\n",
       "      <td>5.0</td>\n",
       "    </tr>\n",
       "    <tr>\n",
       "      <th>4</th>\n",
       "      <td>AH5L7ILVA6HYLZOUZIQAWNHVVK3A</td>\n",
       "      <td>B00FTGTM5E</td>\n",
       "      <td>1.0</td>\n",
       "    </tr>\n",
       "  </tbody>\n",
       "</table>\n",
       "</div>\n",
       "    <div class=\"colab-df-buttons\">\n",
       "\n",
       "  <div class=\"colab-df-container\">\n",
       "    <button class=\"colab-df-convert\" onclick=\"convertToInteractive('df-ad0d4b66-afe4-457d-9b30-0498dc9864f3')\"\n",
       "            title=\"Convert this dataframe to an interactive table.\"\n",
       "            style=\"display:none;\">\n",
       "\n",
       "  <svg xmlns=\"http://www.w3.org/2000/svg\" height=\"24px\" viewBox=\"0 -960 960 960\">\n",
       "    <path d=\"M120-120v-720h720v720H120Zm60-500h600v-160H180v160Zm220 220h160v-160H400v160Zm0 220h160v-160H400v160ZM180-400h160v-160H180v160Zm440 0h160v-160H620v160ZM180-180h160v-160H180v160Zm440 0h160v-160H620v160Z\"/>\n",
       "  </svg>\n",
       "    </button>\n",
       "\n",
       "  <style>\n",
       "    .colab-df-container {\n",
       "      display:flex;\n",
       "      gap: 12px;\n",
       "    }\n",
       "\n",
       "    .colab-df-convert {\n",
       "      background-color: #E8F0FE;\n",
       "      border: none;\n",
       "      border-radius: 50%;\n",
       "      cursor: pointer;\n",
       "      display: none;\n",
       "      fill: #1967D2;\n",
       "      height: 32px;\n",
       "      padding: 0 0 0 0;\n",
       "      width: 32px;\n",
       "    }\n",
       "\n",
       "    .colab-df-convert:hover {\n",
       "      background-color: #E2EBFA;\n",
       "      box-shadow: 0px 1px 2px rgba(60, 64, 67, 0.3), 0px 1px 3px 1px rgba(60, 64, 67, 0.15);\n",
       "      fill: #174EA6;\n",
       "    }\n",
       "\n",
       "    .colab-df-buttons div {\n",
       "      margin-bottom: 4px;\n",
       "    }\n",
       "\n",
       "    [theme=dark] .colab-df-convert {\n",
       "      background-color: #3B4455;\n",
       "      fill: #D2E3FC;\n",
       "    }\n",
       "\n",
       "    [theme=dark] .colab-df-convert:hover {\n",
       "      background-color: #434B5C;\n",
       "      box-shadow: 0px 1px 3px 1px rgba(0, 0, 0, 0.15);\n",
       "      filter: drop-shadow(0px 1px 2px rgba(0, 0, 0, 0.3));\n",
       "      fill: #FFFFFF;\n",
       "    }\n",
       "  </style>\n",
       "\n",
       "    <script>\n",
       "      const buttonEl =\n",
       "        document.querySelector('#df-ad0d4b66-afe4-457d-9b30-0498dc9864f3 button.colab-df-convert');\n",
       "      buttonEl.style.display =\n",
       "        google.colab.kernel.accessAllowed ? 'block' : 'none';\n",
       "\n",
       "      async function convertToInteractive(key) {\n",
       "        const element = document.querySelector('#df-ad0d4b66-afe4-457d-9b30-0498dc9864f3');\n",
       "        const dataTable =\n",
       "          await google.colab.kernel.invokeFunction('convertToInteractive',\n",
       "                                                    [key], {});\n",
       "        if (!dataTable) return;\n",
       "\n",
       "        const docLinkHtml = 'Like what you see? Visit the ' +\n",
       "          '<a target=\"_blank\" href=https://colab.research.google.com/notebooks/data_table.ipynb>data table notebook</a>'\n",
       "          + ' to learn more about interactive tables.';\n",
       "        element.innerHTML = '';\n",
       "        dataTable['output_type'] = 'display_data';\n",
       "        await google.colab.output.renderOutput(dataTable, element);\n",
       "        const docLink = document.createElement('div');\n",
       "        docLink.innerHTML = docLinkHtml;\n",
       "        element.appendChild(docLink);\n",
       "      }\n",
       "    </script>\n",
       "  </div>\n",
       "\n",
       "\n",
       "    <div id=\"df-171fdc22-ec33-4815-b9fa-8ee737f1d423\">\n",
       "      <button class=\"colab-df-quickchart\" onclick=\"quickchart('df-171fdc22-ec33-4815-b9fa-8ee737f1d423')\"\n",
       "                title=\"Suggest charts\"\n",
       "                style=\"display:none;\">\n",
       "\n",
       "<svg xmlns=\"http://www.w3.org/2000/svg\" height=\"24px\"viewBox=\"0 0 24 24\"\n",
       "     width=\"24px\">\n",
       "    <g>\n",
       "        <path d=\"M19 3H5c-1.1 0-2 .9-2 2v14c0 1.1.9 2 2 2h14c1.1 0 2-.9 2-2V5c0-1.1-.9-2-2-2zM9 17H7v-7h2v7zm4 0h-2V7h2v10zm4 0h-2v-4h2v4z\"/>\n",
       "    </g>\n",
       "</svg>\n",
       "      </button>\n",
       "\n",
       "<style>\n",
       "  .colab-df-quickchart {\n",
       "      --bg-color: #E8F0FE;\n",
       "      --fill-color: #1967D2;\n",
       "      --hover-bg-color: #E2EBFA;\n",
       "      --hover-fill-color: #174EA6;\n",
       "      --disabled-fill-color: #AAA;\n",
       "      --disabled-bg-color: #DDD;\n",
       "  }\n",
       "\n",
       "  [theme=dark] .colab-df-quickchart {\n",
       "      --bg-color: #3B4455;\n",
       "      --fill-color: #D2E3FC;\n",
       "      --hover-bg-color: #434B5C;\n",
       "      --hover-fill-color: #FFFFFF;\n",
       "      --disabled-bg-color: #3B4455;\n",
       "      --disabled-fill-color: #666;\n",
       "  }\n",
       "\n",
       "  .colab-df-quickchart {\n",
       "    background-color: var(--bg-color);\n",
       "    border: none;\n",
       "    border-radius: 50%;\n",
       "    cursor: pointer;\n",
       "    display: none;\n",
       "    fill: var(--fill-color);\n",
       "    height: 32px;\n",
       "    padding: 0;\n",
       "    width: 32px;\n",
       "  }\n",
       "\n",
       "  .colab-df-quickchart:hover {\n",
       "    background-color: var(--hover-bg-color);\n",
       "    box-shadow: 0 1px 2px rgba(60, 64, 67, 0.3), 0 1px 3px 1px rgba(60, 64, 67, 0.15);\n",
       "    fill: var(--button-hover-fill-color);\n",
       "  }\n",
       "\n",
       "  .colab-df-quickchart-complete:disabled,\n",
       "  .colab-df-quickchart-complete:disabled:hover {\n",
       "    background-color: var(--disabled-bg-color);\n",
       "    fill: var(--disabled-fill-color);\n",
       "    box-shadow: none;\n",
       "  }\n",
       "\n",
       "  .colab-df-spinner {\n",
       "    border: 2px solid var(--fill-color);\n",
       "    border-color: transparent;\n",
       "    border-bottom-color: var(--fill-color);\n",
       "    animation:\n",
       "      spin 1s steps(1) infinite;\n",
       "  }\n",
       "\n",
       "  @keyframes spin {\n",
       "    0% {\n",
       "      border-color: transparent;\n",
       "      border-bottom-color: var(--fill-color);\n",
       "      border-left-color: var(--fill-color);\n",
       "    }\n",
       "    20% {\n",
       "      border-color: transparent;\n",
       "      border-left-color: var(--fill-color);\n",
       "      border-top-color: var(--fill-color);\n",
       "    }\n",
       "    30% {\n",
       "      border-color: transparent;\n",
       "      border-left-color: var(--fill-color);\n",
       "      border-top-color: var(--fill-color);\n",
       "      border-right-color: var(--fill-color);\n",
       "    }\n",
       "    40% {\n",
       "      border-color: transparent;\n",
       "      border-right-color: var(--fill-color);\n",
       "      border-top-color: var(--fill-color);\n",
       "    }\n",
       "    60% {\n",
       "      border-color: transparent;\n",
       "      border-right-color: var(--fill-color);\n",
       "    }\n",
       "    80% {\n",
       "      border-color: transparent;\n",
       "      border-right-color: var(--fill-color);\n",
       "      border-bottom-color: var(--fill-color);\n",
       "    }\n",
       "    90% {\n",
       "      border-color: transparent;\n",
       "      border-bottom-color: var(--fill-color);\n",
       "    }\n",
       "  }\n",
       "</style>\n",
       "\n",
       "      <script>\n",
       "        async function quickchart(key) {\n",
       "          const quickchartButtonEl =\n",
       "            document.querySelector('#' + key + ' button');\n",
       "          quickchartButtonEl.disabled = true;  // To prevent multiple clicks.\n",
       "          quickchartButtonEl.classList.add('colab-df-spinner');\n",
       "          try {\n",
       "            const charts = await google.colab.kernel.invokeFunction(\n",
       "                'suggestCharts', [key], {});\n",
       "          } catch (error) {\n",
       "            console.error('Error during call to suggestCharts:', error);\n",
       "          }\n",
       "          quickchartButtonEl.classList.remove('colab-df-spinner');\n",
       "          quickchartButtonEl.classList.add('colab-df-quickchart-complete');\n",
       "        }\n",
       "        (() => {\n",
       "          let quickchartButtonEl =\n",
       "            document.querySelector('#df-171fdc22-ec33-4815-b9fa-8ee737f1d423 button');\n",
       "          quickchartButtonEl.style.display =\n",
       "            google.colab.kernel.accessAllowed ? 'block' : 'none';\n",
       "        })();\n",
       "      </script>\n",
       "    </div>\n",
       "\n",
       "    </div>\n",
       "  </div>\n"
      ],
      "application/vnd.google.colaboratory.intrinsic+json": {
       "type": "dataframe",
       "variable_name": "all_data"
      }
     },
     "metadata": {},
     "execution_count": 3
    }
   ],
   "source": [
    "# Import the json module for reading JSON formatted data\n",
    "import json\n",
    "# Import pandas for data manipulation and analysis\n",
    "import pandas as pd\n",
    "\n",
    "# Define the filename containing the dataset\n",
    "file = \"Gift_Cards.jsonl\"\n",
    "\n",
    "# Initialize an empty list to store parsed data\n",
    "all_data = []\n",
    "\n",
    "# Open the JSON lines file and read it line by line\n",
    "with open(file, 'r') as fp:\n",
    "    for line in fp:\n",
    "        # Parse each line as JSON and strip any extra whitespace\n",
    "        line_data = json.loads(line.strip())\n",
    "        # Append a tuple of (user_id, item id (asin), rating) to the list\n",
    "        all_data.append((line_data[\"user_id\"], line_data[\"asin\"], line_data[\"rating\"]))\n",
    "\n",
    "# Convert the list of tuples into a pandas DataFrame with specified column names\n",
    "all_data = pd.DataFrame(all_data, columns=[\"user_id\", \"item\", \"rating\"])\n",
    "\n",
    "# Display the first few rows of the DataFrame to verify data loading\n",
    "all_data.head()"
   ]
  },
  {
   "cell_type": "markdown",
   "metadata": {
    "id": "mqwPVNVvoHUX"
   },
   "source": [
    "##  **2.1- DATASET DIVISION FOR MODELING**"
   ]
  },
  {
   "cell_type": "code",
   "execution_count": null,
   "metadata": {
    "colab": {
     "base_uri": "https://localhost:8080/"
    },
    "id": "Yias6P2KoYo-",
    "outputId": "6978ab8d-ddd7-4d13-f194-2baca17e9bdc"
   },
   "outputs": [
    {
     "output_type": "stream",
     "name": "stderr",
     "text": [
      "/usr/local/lib/python3.11/dist-packages/cornac/data/dataset.py:335: UserWarning: 519 duplicated observations are removed!\n",
      "  warnings.warn(\"%d duplicated observations are removed!\" % dup_count)\n",
      "/usr/local/lib/python3.11/dist-packages/cornac/data/dataset.py:335: UserWarning: 26 duplicated observations are removed!\n",
      "  warnings.warn(\"%d duplicated observations are removed!\" % dup_count)\n",
      "/usr/local/lib/python3.11/dist-packages/cornac/data/dataset.py:335: UserWarning: 24 duplicated observations are removed!\n",
      "  warnings.warn(\"%d duplicated observations are removed!\" % dup_count)\n"
     ]
    },
    {
     "output_type": "stream",
     "name": "stdout",
     "text": [
      "There are 91446 training samples\n",
      "There are 30482 validation samples\n",
      "There are 30482 test samples\n"
     ]
    }
   ],
   "source": [
    "# Import RatioSplit evaluation method from Cornac library\n",
    "from cornac.eval_methods import RatioSplit\n",
    "\n",
    "# Set a fixed random seed to ensure reproducibility of the data split\n",
    "random_seed = 2533\n",
    "\n",
    "# Initialize RatioSplit to split the dataset into training, validation, and test sets\n",
    "# test_size=0.2 means 20% of data will be used for testing\n",
    "# val_size=0.2 means 20% of data will be used for validation\n",
    "# rating_threshold=3.0 means ratings >= 3 are considered positive feedback\n",
    "rs = RatioSplit(data=all_data.values, test_size=0.2, val_size=0.2, rating_threshold=3.0, seed=random_seed)\n",
    "\n",
    "# Output the number of training samples after splitting\n",
    "print(f\"There are {rs.train_size} training samples\")\n",
    "# Output the number of validation samples after splitting\n",
    "print(f\"There are {rs.val_size} validation samples\")\n",
    "# Output the number of test samples after splitting\n",
    "print(f\"There are {rs.test_size} test samples\")"
   ]
  },
  {
   "cell_type": "markdown",
   "metadata": {
    "id": "Sqj2ttNgXUNN"
   },
   "source": []
  },
  {
   "cell_type": "code",
   "execution_count": null,
   "metadata": {
    "id": "7deuYCajafl_"
   },
   "outputs": [],
   "source": [
    "# Initialize evaluation metrics for the recommendation models\n",
    "\n",
    "# FMeasure (F1 score) at cutoff 10: balances precision and recall for top 10 recommendations\n",
    "F1_at_10 = cornac.metrics.FMeasure(k=10)\n",
    "\n",
    "# FMeasure at cutoff 100: evaluates F1 score for top 100 recommendations\n",
    "F1_at_100 = cornac.metrics.FMeasure(k=100)\n",
    "\n",
    "# Precision at cutoff 50: measures proportion of relevant items in the top 50 recommendations\n",
    "Precision = cornac.metrics.Precision(k=50)\n",
    "\n",
    "# Recall at cutoff 50: measures how many relevant items are retrieved within top 50 recommendations\n",
    "Recall = cornac.metrics.Recall(k=50)\n",
    "\n",
    "# Normalized Discounted Cumulative Gain: accounts for the position of relevant items in the ranking\n",
    "NDCG = cornac.metrics.NDCG()\n",
    "\n",
    "# Area Under the ROC Curve: evaluates the model’s ability to distinguish between positive and negative interactions\n",
    "AUC = cornac.metrics.AUC()\n",
    "\n",
    "# Mean Average Precision: measures average precision across all users\n",
    "MAP = cornac.metrics.MAP()\n",
    "\n",
    "# Mean Absolute Error: average absolute difference between predicted and true ratings (for rating prediction)\n",
    "MAE = cornac.metrics.MAE()\n",
    "\n",
    "# Root Mean Squared Error: square root of average squared difference between predicted and true ratings\n",
    "RMSE = cornac.metrics.RMSE()\n",
    "\n",
    "# Mean Squared Error: average squared difference between predicted and true ratings\n",
    "MSE = cornac.metrics.MSE()"
   ]
  },
  {
   "cell_type": "markdown",
   "metadata": {
    "id": "uG2KgC_1vGL_"
   },
   "source": [
    "#**3.- POP**"
   ]
  },
  {
   "cell_type": "code",
   "execution_count": null,
   "metadata": {
    "colab": {
     "base_uri": "https://localhost:8080/",
     "height": 390,
     "referenced_widgets": [
      "35472e1282e3453cae7fb117eebac6a9",
      "a843330cb4f5463587b19fe4c24845d3",
      "2a119560346c4222950d496a1f019551",
      "891a93acbdf64dc0ba441638bdd88982",
      "bc529e6a09a2424aa9b65d8da37505ab",
      "6f93c63c630e4251a6ce89d0ed1d6b09",
      "af9ea707e60349949575d089bc35687b",
      "076683968ed54e1883b1f3345850547d",
      "14ca5f200cca478e925ca20e474d5592",
      "ab45436c57f94ad09cf53c29967898fa",
      "74cb523be45545f4a230771dfd504e15",
      "80a4f010a9cd464cbdff96aac4bcec8c",
      "111cb48d68c349ac80389cede78a6fec",
      "9dd0161011844653a9ef97f0ee8ed50f",
      "b67000519d934445804e4918ff55a3fb",
      "549b936d42294075a1a061ce4fe7c7c0",
      "336fd3d84d594f9ba444e7589d4a40ad",
      "a1851c610e204141ac68be886bfe657b",
      "42f60af8f2f94a4fab2ff57fa8b94c2b",
      "a30780377358445b924dcb0bf0747dbd",
      "41f0ee52e1f747c09af81566bf72ef99",
      "abf39ae5fb37408cb678a51d36db8428"
     ]
    },
    "id": "U9uxklt9zN4X",
    "outputId": "5c8c7371-0cc0-463c-8d7e-f105dcef0ad4"
   },
   "outputs": [
    {
     "output_type": "stream",
     "name": "stdout",
     "text": [
      "\n",
      "[MostPop] Training started!\n",
      "\n",
      "[MostPop] Evaluation started!\n"
     ]
    },
    {
     "output_type": "display_data",
     "data": {
      "text/plain": [
       "Ranking:   0%|          | 0/4120 [00:00<?, ?it/s]"
      ],
      "application/vnd.jupyter.widget-view+json": {
       "version_major": 2,
       "version_minor": 0,
       "model_id": "35472e1282e3453cae7fb117eebac6a9"
      }
     },
     "metadata": {}
    },
    {
     "output_type": "display_data",
     "data": {
      "text/plain": [
       "Ranking:   0%|          | 0/4030 [00:00<?, ?it/s]"
      ],
      "application/vnd.jupyter.widget-view+json": {
       "version_major": 2,
       "version_minor": 0,
       "model_id": "80a4f010a9cd464cbdff96aac4bcec8c"
      }
     },
     "metadata": {}
    },
    {
     "output_type": "stream",
     "name": "stdout",
     "text": [
      "\n",
      "VALIDATION:\n",
      "...\n",
      "        |    AUC | NDCG@-1 | Recall@50 | Time (s)\n",
      "------- + ------ + ------- + --------- + --------\n",
      "MostPop | 0.9113 |  0.2881 |    0.4903 |   2.9032\n",
      "\n",
      "TEST:\n",
      "...\n",
      "        |    AUC | NDCG@-1 | Recall@50 | Train (s) | Test (s)\n",
      "------- + ------ + ------- + --------- + --------- + --------\n",
      "MostPop | 0.9136 |  0.2843 |    0.5030 |    0.0230 |   3.4817\n",
      "\n"
     ]
    }
   ],
   "source": [
    "# Define the recommendation model to use: MostPop recommends the most popular items to all users\n",
    "most_pop = cornac.models.MostPop()\n",
    "\n",
    "# Set up and run the experiment\n",
    "# - eval_method: data splitting method defined earlier (rs)\n",
    "# - models: list of models to evaluate (here only MostPop)\n",
    "# - metrics: evaluation metrics to measure performance (Recall, NDCG, AUC)\n",
    "# - verbose=True: print progress and results during execution\n",
    "# - user_based=True: evaluation is performed from a user perspective\n",
    "cornac.Experiment(\n",
    "    eval_method=rs,\n",
    "    models=[most_pop],\n",
    "    metrics=[Recall, NDCG, AUC],\n",
    "    verbose=True,\n",
    "    user_based=True\n",
    ").run()"
   ]
  },
  {
   "cell_type": "markdown",
   "metadata": {
    "id": "NwF5xebmok2_"
   },
   "source": [
    "#**4.- MF**"
   ]
  },
  {
   "cell_type": "code",
   "execution_count": null,
   "metadata": {
    "colab": {
     "base_uri": "https://localhost:8080/",
     "height": 734,
     "referenced_widgets": [
      "f55c724d41144360af488cb6db019315",
      "ec7715d1902e460387785cce4de03d38",
      "3a9799cec7854ff28d84484e55eb94d2",
      "ad81e36243e54f0184d85c82a3b4f345",
      "649892b3a8e74801bc385aeb38b33cb6",
      "230bdb101fc34a129983d211caedcac1",
      "ad54f429a72b42e88a94ed47a95f95ca",
      "941b574e65d84d198ce27e131770f7dc",
      "837a3dd9dd624a3b9dc6894e0713fccc",
      "994e1c2a491241a5b40f4e0a6b4f0342",
      "9a149f808d344fa3b0c6272423962e58",
      "d13523dfe8a04cbc9681342be3667d75",
      "2519f18b00f242d5a159a028f1db8d17",
      "e626c5679cb14f4fa080345be5d671a5",
      "714fcceee00b45689474e534533a4ced",
      "6192e5141ea94b88bfb2d7dcfcafd42b",
      "7c4a246681c14649a47057db25bcd89d",
      "d2124ea6c1c84d37a1f14405403276f9",
      "2224ec7dd3bc4a4db93829a8de2ca159",
      "0d858de11f6646778c5d4d475e84730e",
      "e51203a8eca74a48948d642b167f3693",
      "dda907fc107d408f8d0e16fde759f7ce"
     ]
    },
    "id": "YT_mO6qBowEf",
    "outputId": "e4cb4ed6-3227-468d-bba5-cbe3e1141740"
   },
   "outputs": [
    {
     "output_type": "stream",
     "name": "stdout",
     "text": [
      "\n",
      "[GridSearch_MF] Training started!\n",
      "Evaluating: {'k': 5, 'learning_rate': 0.001}\n",
      "Evaluating: {'k': 5, 'learning_rate': 0.01}\n",
      "Evaluating: {'k': 5, 'learning_rate': 0.1}\n",
      "Evaluating: {'k': 5, 'learning_rate': 0.5}\n",
      "Evaluating: {'k': 15, 'learning_rate': 0.001}\n",
      "Evaluating: {'k': 15, 'learning_rate': 0.01}\n",
      "Evaluating: {'k': 15, 'learning_rate': 0.1}\n",
      "Evaluating: {'k': 15, 'learning_rate': 0.5}\n",
      "Evaluating: {'k': 45, 'learning_rate': 0.001}\n",
      "Evaluating: {'k': 45, 'learning_rate': 0.01}\n",
      "Evaluating: {'k': 45, 'learning_rate': 0.1}\n",
      "Evaluating: {'k': 45, 'learning_rate': 0.5}\n",
      "Evaluating: {'k': 100, 'learning_rate': 0.001}\n",
      "Evaluating: {'k': 100, 'learning_rate': 0.01}\n",
      "Evaluating: {'k': 100, 'learning_rate': 0.1}\n",
      "Evaluating: {'k': 100, 'learning_rate': 0.5}\n",
      "Best parameter settings: {'k': 5, 'learning_rate': 0.1}\n",
      "MAE = 0.2468\n",
      "\n",
      "[GridSearch_MF] Evaluation started!\n"
     ]
    },
    {
     "output_type": "display_data",
     "data": {
      "text/plain": [
       "Rating:   0%|          | 0/4753 [00:00<?, ?it/s]"
      ],
      "application/vnd.jupyter.widget-view+json": {
       "version_major": 2,
       "version_minor": 0,
       "model_id": "f55c724d41144360af488cb6db019315"
      }
     },
     "metadata": {}
    },
    {
     "output_type": "display_data",
     "data": {
      "text/plain": [
       "Rating:   0%|          | 0/4673 [00:00<?, ?it/s]"
      ],
      "application/vnd.jupyter.widget-view+json": {
       "version_major": 2,
       "version_minor": 0,
       "model_id": "d13523dfe8a04cbc9681342be3667d75"
      }
     },
     "metadata": {}
    },
    {
     "output_type": "stream",
     "name": "stdout",
     "text": [
      "\n",
      "VALIDATION:\n",
      "...\n",
      "              |    MAE |    MSE |   RMSE | Time (s)\n",
      "------------- + ------ + ------ + ------ + --------\n",
      "GridSearch_MF | 0.2515 | 0.3301 | 0.2565 |   1.6679\n",
      "\n",
      "TEST:\n",
      "...\n",
      "              |    MAE |    MSE |   RMSE | Train (s) | Test (s)\n",
      "------------- + ------ + ------ + ------ + --------- + --------\n",
      "GridSearch_MF | 0.2636 | 0.3762 | 0.2685 |   16.6169 |   1.8991\n",
      "\n",
      "best hyperparameters: {'k': 5, 'learning_rate': 0.1}\n"
     ]
    }
   ],
   "source": [
    "import cornac\n",
    "from cornac.hyperopt import Discrete, Continuous, GridSearch\n",
    "\n",
    "# Define the matrix factorization (MF) model with some default hyperparameters\n",
    "MF = cornac.models.MF(\n",
    "    k=10,               # Number of latent factors\n",
    "    max_iter=100,       # Maximum iterations for training\n",
    "    learning_rate=0.01, # Learning rate for optimization\n",
    "    lambda_reg=0.02,    # Regularization term to prevent overfitting\n",
    "    use_bias=True,      # Include user/item biases\n",
    "    seed=random_seed    # Seed for reproducibility\n",
    ")\n",
    "\n",
    "# Define the hyperparameter search space for grid search\n",
    "space = [\n",
    "    Discrete(name=\"k\", values=[5, 15, 45, 100]),             # Possible values for latent factors\n",
    "    Discrete(name=\"learning_rate\", values=[0.001, 0.01, 0.1, 0.5])  # Possible learning rates\n",
    "]\n",
    "\n",
    "# Set up grid search to tune MF hyperparameters by minimizing MAE metric\n",
    "gs_MF = GridSearch(\n",
    "    model=MF,\n",
    "    space=space,\n",
    "    metric=MAE,\n",
    "    eval_method=rs  # Use the same data split method defined earlier\n",
    ")\n",
    "\n",
    "# Run the experiment with the grid search model\n",
    "cornac.Experiment(\n",
    "    eval_method=rs,\n",
    "    models=[gs_MF],              # Grid search will handle multiple model trainings internally\n",
    "    metrics=[MAE, RMSE, MSE],   # Metrics to evaluate performance during tuning\n",
    "    verbose=True,               # Show training progress and results\n",
    "    user_based=True             # Evaluate from user perspective\n",
    ").run()\n",
    "\n",
    "# Print the best hyperparameters found by the grid search\n",
    "print(\"best hyperparameters:\", gs_MF.best_params)"
   ]
  },
  {
   "cell_type": "markdown",
   "metadata": {
    "id": "BvwnDBALu0G5"
   },
   "source": [
    "# **5.- BPR**"
   ]
  },
  {
   "cell_type": "code",
   "execution_count": null,
   "metadata": {
    "colab": {
     "base_uri": "https://localhost:8080/",
     "height": 535,
     "referenced_widgets": [
      "f81ce45786744a8ab1cbee7d472b32dc",
      "74851d57d48848a693219c5a9def775c",
      "0b4d238237d74e23a2e910e4d9b313c6",
      "60f96f3713254e8b902d97a3152240f8",
      "52a16002c13b4e60a55f53b235e4f1b0",
      "a44c2ff977954d90bd0d97560d2c9541",
      "c028c239ba164c599526f6ba6747063e",
      "9b460e819272460dbf6ddec96ec82e79",
      "00d2ff6a6d364cd7942d104c1d822147",
      "54ad9a757ec84be5ab5d02ae2d3eca38",
      "a884e3a6d6994269b6859604980af089",
      "7be7e5525f024698abdcb62b19d164c0",
      "f18cf53bee0140c98856202b7ee444b4",
      "59b29acf9b2042a18b6a42da2d3c1b7b",
      "ba9ee3c88a474cc0bbf5b2876ba9247f",
      "6310f07bb9da4e788bdd47f841cf89af",
      "99a45cd742cf4d5daef8e3a44871120f",
      "22ea320dd91747e9b12a67aa650eb18e",
      "a7b52ed8e82743cd9a02f4aeb8501a55",
      "fbe5326ddb98411eb2c2f7e59f53acb9",
      "a866eff3e02d4cbfa79e36a7d0986201",
      "58d911409a5244e69f63ba62ee0e9fd8"
     ]
    },
    "id": "hAeUoXIaan1a",
    "outputId": "37d13372-f17a-469f-cc11-8afd1ddd0f0f"
   },
   "outputs": [
    {
     "output_type": "stream",
     "name": "stdout",
     "text": [
      "\n",
      "[GridSearch_BPR] Training started!\n",
      "Evaluating: {'lambda_reg': 0.0001}\n",
      "Evaluating: {'lambda_reg': 0.001}\n",
      "Evaluating: {'lambda_reg': 0.01}\n",
      "Evaluating: {'lambda_reg': 0.1}\n",
      "Evaluating: {'lambda_reg': 0.5}\n",
      "Best parameter settings: {'lambda_reg': 0.01}\n",
      "NDCG@-1 = 0.3399\n",
      "\n",
      "[GridSearch_BPR] Evaluation started!\n"
     ]
    },
    {
     "output_type": "display_data",
     "data": {
      "text/plain": [
       "Ranking:   0%|          | 0/4120 [00:00<?, ?it/s]"
      ],
      "application/vnd.jupyter.widget-view+json": {
       "version_major": 2,
       "version_minor": 0,
       "model_id": "f81ce45786744a8ab1cbee7d472b32dc"
      }
     },
     "metadata": {}
    },
    {
     "output_type": "display_data",
     "data": {
      "text/plain": [
       "Ranking:   0%|          | 0/4030 [00:00<?, ?it/s]"
      ],
      "application/vnd.jupyter.widget-view+json": {
       "version_major": 2,
       "version_minor": 0,
       "model_id": "7be7e5525f024698abdcb62b19d164c0"
      }
     },
     "metadata": {}
    },
    {
     "output_type": "stream",
     "name": "stdout",
     "text": [
      "\n",
      "VALIDATION:\n",
      "...\n",
      "               |    AUC | NDCG@-1 | Recall@50 | Time (s)\n",
      "-------------- + ------ + ------- + --------- + --------\n",
      "GridSearch_BPR | 0.8986 |  0.3389 |    0.5577 |   7.1321\n",
      "\n",
      "TEST:\n",
      "...\n",
      "               |    AUC | NDCG@-1 | Recall@50 | Train (s) | Test (s)\n",
      "-------------- + ------ + ------- + --------- + --------- + --------\n",
      "GridSearch_BPR | 0.9004 |  0.3387 |    0.5688 |   42.8734 |   4.3865\n",
      "\n",
      "best hyperparameters: {'lambda_reg': 0.01}\n"
     ]
    }
   ],
   "source": [
    "# Define Bayesian Personalized Ranking (BPR) model with initial hyperparameters\n",
    "BPR = cornac.models.BPR(\n",
    "    k=100,               # Number of latent factors\n",
    "    max_iter=100,        # Maximum iterations for training\n",
    "    learning_rate=0.5,   # Learning rate for optimization\n",
    "    lambda_reg=0.02,     # Regularization term to avoid overfitting\n",
    "    seed=random_seed     # Seed for reproducibility\n",
    ")\n",
    "\n",
    "# Define hyperparameter search space for lambda_reg (regularization parameter)\n",
    "space = [\n",
    "    Discrete(name=\"lambda_reg\", values=[0.0001, 0.001, 0.01, 0.1, 0.5])\n",
    "]\n",
    "\n",
    "# Set up grid search to tune lambda_reg hyperparameter optimizing for NDCG metric\n",
    "gs_BPR = GridSearch(\n",
    "    model=BPR,\n",
    "    space=space,\n",
    "    metric=NDCG,\n",
    "    eval_method=rs  # Use the same data split defined previously\n",
    ")\n",
    "\n",
    "# Run the experiment with grid search applied to BPR model\n",
    "cornac.Experiment(\n",
    "    eval_method=rs,\n",
    "    models=[gs_BPR],           # Grid search manages multiple trainings internally\n",
    "    metrics=[Recall, NDCG, AUC],  # Metrics to evaluate model performance\n",
    "    verbose=True,              # Show detailed output during training\n",
    "    user_based=True            # Evaluate from user perspective\n",
    ").run()\n",
    "\n",
    "# Output the best regularization hyperparameter found by grid search\n",
    "print(\"best hyperparameters:\", gs_BPR.best_params)"
   ]
  },
  {
   "cell_type": "markdown",
   "metadata": {
    "id": "mMthse7NORqi"
   },
   "source": []
  },
  {
   "cell_type": "markdown",
   "metadata": {
    "id": "TG52w1Nbu-jo"
   },
   "source": [
    "# **6.-GA**"
   ]
  },
  {
   "cell_type": "code",
   "execution_count": null,
   "metadata": {
    "colab": {
     "base_uri": "https://localhost:8080/",
     "height": 390,
     "referenced_widgets": [
      "abf5d12c5cc04989b77137f1143007f5",
      "cbf4a2dba6924c6da0c16980b608ac71",
      "ae111cdbdd5946058a3f452abba6b7ff",
      "ec0ecef7fac74db9aa88588762051549",
      "5590b0536be24546a2fc6f977285b07d",
      "401add33b9f14e2aadd1d5ff59afc34d",
      "8921196bc3d44716a760e25ffc3a9fa0",
      "dc05ebf2bdb44b1ab25e2e3c38020544",
      "7259681e74774aef9867476725ff79b2",
      "3e5db4f0b77d4a8cb6191668bbaf54e8",
      "5334636f7f3c412cb754db31fcdcf8e2",
      "ee7edc5dd76b48df9b09098e01626916",
      "cfcfd9001d314225904c6883ceb71a5b",
      "f2a68ff374974211abd5aa7e6a598bf7",
      "3507bd64a30343a998b9d4fbe6d92bfb",
      "91cff94d1c99499bb7df88133a8d42f3",
      "06ab4faae18947a1acbe45729b0f2060",
      "a10a9a2051f14a4999520d3db4e9aa14",
      "fd911442750f4e7a94a091df0f2888f7",
      "a70f392421c442a39258658cf9a219a5",
      "be8a1d4ee11746c5868637e6c5f0a7ad",
      "b033dd93653c464b97a06e019cc13350"
     ]
    },
    "id": "FyzKGyHDmoXi",
    "outputId": "2c2f8cd4-ddf7-434b-d9db-72d70875ce6c"
   },
   "outputs": [
    {
     "output_type": "stream",
     "name": "stdout",
     "text": [
      "\n",
      "[GlobalAvg] Training started!\n",
      "\n",
      "[GlobalAvg] Evaluation started!\n"
     ]
    },
    {
     "output_type": "display_data",
     "data": {
      "text/plain": [
       "Rating:   0%|          | 0/4753 [00:00<?, ?it/s]"
      ],
      "application/vnd.jupyter.widget-view+json": {
       "version_major": 2,
       "version_minor": 0,
       "model_id": "abf5d12c5cc04989b77137f1143007f5"
      }
     },
     "metadata": {}
    },
    {
     "output_type": "display_data",
     "data": {
      "text/plain": [
       "Rating:   0%|          | 0/4673 [00:00<?, ?it/s]"
      ],
      "application/vnd.jupyter.widget-view+json": {
       "version_major": 2,
       "version_minor": 0,
       "model_id": "ee7edc5dd76b48df9b09098e01626916"
      }
     },
     "metadata": {}
    },
    {
     "output_type": "stream",
     "name": "stdout",
     "text": [
      "\n",
      "VALIDATION:\n",
      "...\n",
      "          |    MAE |    MSE |   RMSE | Time (s)\n",
      "--------- + ------ + ------ + ------ + --------\n",
      "GlobalAvg | 0.5684 | 0.6223 | 0.5699 |   1.6946\n",
      "\n",
      "TEST:\n",
      "...\n",
      "          |    MAE |    MSE |   RMSE | Train (s) | Test (s)\n",
      "--------- + ------ + ------ + ------ + --------- + --------\n",
      "GlobalAvg | 0.5725 | 0.6493 | 0.5735 |    0.0005 |   1.4026\n",
      "\n"
     ]
    }
   ],
   "source": [
    "# Define the Global Average model, which predicts ratings using the overall average rating in the dataset\n",
    "global_avg = cornac.models.GlobalAvg()\n",
    "\n",
    "# Set up and run the experiment using the RatioSplit evaluation method\n",
    "cornac.Experiment(\n",
    "    eval_method=rs,             # Use previously defined train/val/test split\n",
    "    models=[global_avg],        # Evaluate the Global Average model\n",
    "    metrics=[MAE, RMSE, MSE],   # Evaluate with error metrics: Mean Absolute Error, Root Mean Squared Error, Mean Squared Error\n",
    "    verbose=True,               # Print detailed progress and results\n",
    "    user_based=True             # Evaluate recommendations from the user perspective\n",
    ").run()"
   ]
  },
  {
   "cell_type": "markdown",
   "metadata": {
    "id": "zXydDCRovbo4"
   },
   "source": [
    "# **7.- NeuMF**"
   ]
  },
  {
   "cell_type": "code",
   "execution_count": null,
   "metadata": {
    "colab": {
     "base_uri": "https://localhost:8080/",
     "height": 422,
     "referenced_widgets": [
      "32e33efd2fe7491091e3a322cea3550e",
      "0843dd90696e46d089b472760c1aff0f",
      "ea69085f460544b9ab1d40dcfd4ab018",
      "e02bc1a0191d468a91e5bfcf40a5f5fb",
      "c9eb26ee89614281b253f40189995d9f",
      "a7156f86ffce45249296ae342fb527c7",
      "0b664445f30f42158c1e0827840a6f46",
      "f900872e2c9546849567add653778bbe",
      "642ab741a3404f688f8a540233325f18",
      "888140e5ff264c71bd9346d5064f964d",
      "4930d1e5b90741fcbc8a5d52c572fee8",
      "3d3d620a2de340c3bc0ff8f40a1ceb4e",
      "7c9c1686db394d41a9b4804d5a022b13",
      "cabfdccc53b64cc88ae4366c18d61bdb",
      "95d6dfcd647c4b2783d503068c1d51ab",
      "2acb940914c6405ab4204bf2af9133c0",
      "4d49c79781664e6eb2d30efef5ed3910",
      "92a883bf330644e3bacc96a1e2406bf5",
      "1fa646cb6f124e06a708c95c796b50b7",
      "48d26583435c44e88474d9035234934e",
      "d137111c0c6c45fe94ab525753cfb559",
      "98d10be48c5f42b284efe03ac06a9999",
      "1c9156132f69427599cb03d0f18eea64",
      "de4a992a984c4899921e047abb3914fd",
      "deea6e78338e4331acc3154c74cca8eb",
      "f819a1c06dd94dd9a1b0f9e7744318cc",
      "f828f9b15a1746f1840dd202a65ea9e4",
      "1afcf7c234354438be748c959c409ff7",
      "9c2d4be1ae544367a71274f80d0290b1",
      "f86825616e7c420e8dd3338fb26205d2",
      "f675eaf8f4c544128da197146c885fe0",
      "37d0e2d3206d4b8395232439b97eb8d6",
      "d1847fd49b174b46bc77c64aa7d74de6"
     ]
    },
    "id": "tve8NKB-PagM",
    "outputId": "2782e428-7b4a-4e1f-dbbe-421f5087a3be"
   },
   "outputs": [
    {
     "output_type": "stream",
     "name": "stdout",
     "text": [
      "\n",
      "[NeuMF] Training started!\n"
     ]
    },
    {
     "output_type": "display_data",
     "data": {
      "text/plain": [
       "  0%|          | 0/20 [00:00<?, ?it/s]"
      ],
      "application/vnd.jupyter.widget-view+json": {
       "version_major": 2,
       "version_minor": 0,
       "model_id": "32e33efd2fe7491091e3a322cea3550e"
      }
     },
     "metadata": {}
    },
    {
     "output_type": "stream",
     "name": "stdout",
     "text": [
      "\n",
      "[NeuMF] Evaluation started!\n"
     ]
    },
    {
     "output_type": "display_data",
     "data": {
      "text/plain": [
       "Ranking:   0%|          | 0/4120 [00:00<?, ?it/s]"
      ],
      "application/vnd.jupyter.widget-view+json": {
       "version_major": 2,
       "version_minor": 0,
       "model_id": "3d3d620a2de340c3bc0ff8f40a1ceb4e"
      }
     },
     "metadata": {}
    },
    {
     "output_type": "display_data",
     "data": {
      "text/plain": [
       "Ranking:   0%|          | 0/4030 [00:00<?, ?it/s]"
      ],
      "application/vnd.jupyter.widget-view+json": {
       "version_major": 2,
       "version_minor": 0,
       "model_id": "1c9156132f69427599cb03d0f18eea64"
      }
     },
     "metadata": {}
    },
    {
     "output_type": "stream",
     "name": "stdout",
     "text": [
      "\n",
      "VALIDATION:\n",
      "...\n",
      "      |    AUC | NDCG@-1 | Recall@50 | Time (s)\n",
      "----- + ------ + ------- + --------- + --------\n",
      "NeuMF | 0.7874 |  0.2457 |    0.3153 |   7.2499\n",
      "\n",
      "TEST:\n",
      "...\n",
      "      |    AUC | NDCG@-1 | Recall@50 | Train (s) | Test (s)\n",
      "----- + ------ + ------- + --------- + --------- + --------\n",
      "NeuMF | 0.7928 |  0.2462 |    0.3193 |  517.1325 |   8.4291\n",
      "\n"
     ]
    }
   ],
   "source": [
    "# Set parameters for the NeuMF (Neural Matrix Factorization) model\n",
    "num_factors = 16             # Number of latent factors for embeddings\n",
    "layers = [64, 32, 16, 8]     # Sizes of the hidden layers in the neural network\n",
    "act_fn = \"relu\"              # Activation function used in hidden layers\n",
    "learner = \"adam\"             # Optimization algorithm\n",
    "backend = \"pytorch\"          # Deep learning backend: PyTorch (alternative is TensorFlow)\n",
    "num_epochs = 20              # Number of training epochs\n",
    "batch_size = 256             # Number of samples per training batch\n",
    "lr = 0.01                    # Learning rate for optimization\n",
    "num_neg = 10                 # Number of negative samples per positive instance for training\n",
    "seed = random_seed           # Seed for reproducibility\n",
    "\n",
    "# Initialize the NeuMF model with the specified parameters\n",
    "neumf = cornac.models.NeuMF(\n",
    "    num_factors=num_factors,\n",
    "    layers=layers,\n",
    "    act_fn=act_fn,\n",
    "    learner=learner,\n",
    "    backend=backend,\n",
    "    num_epochs=num_epochs,\n",
    "    batch_size=batch_size,\n",
    "    lr=lr,\n",
    "    num_neg=num_neg,\n",
    "    seed=seed\n",
    ")\n",
    "\n",
    "# Run the experiment using the defined evaluation method and metrics\n",
    "cornac.Experiment(\n",
    "    eval_method=rs,                # Use the predefined train/val/test splits\n",
    "    models=[neumf],               # Evaluate the NeuMF model\n",
    "    metrics=[Recall, NDCG, AUC],  # Metrics to assess recommendation quality\n",
    "    verbose=True                  # Enable detailed output during training\n",
    ").run()"
   ]
  },
  {
   "cell_type": "markdown",
   "metadata": {
    "id": "pAHdvhOkbp8q"
   },
   "source": [
    "#**8.- NEURAL RATING**"
   ]
  },
  {
   "cell_type": "code",
   "execution_count": null,
   "metadata": {
    "id": "Y2omhdfCbi3B"
   },
   "outputs": [],
   "source": [
    "import numpy as np\n",
    "import tensorflow as tf\n",
    "from tensorflow.keras.layers import Input, Embedding, Flatten, Dense, Concatenate, Dropout, BatchNormalization\n",
    "from tensorflow.keras.models import Model\n",
    "from tensorflow.keras.optimizers import Adam\n",
    "from tensorflow.keras.regularizers import l2\n",
    "from cornac.models import Recommender\n",
    "\n",
    "# Define a custom neural network-based recommender model inheriting from Cornac's Recommender class\n",
    "class Neural_Rating(Recommender):\n",
    "    def __init__(self, embedding_dim=10, dropout=0.2, dense_units1=10,\n",
    "                 dense_units2=8, l2_reg=0.001,\n",
    "                 epochs=50, batch_size=64,\n",
    "                 learning_rate=0.0001, patience=5,\n",
    "                 verbose=1, **kwargs):\n",
    "        super().__init__(name=\"NR\", **kwargs)  # Initialize parent class with model name \"NR\"\n",
    "\n",
    "        # Set hyperparameters for model architecture and training\n",
    "        self.embedding_dim = embedding_dim        # Dimensionality of user/item embeddings\n",
    "        self.dropout = dropout                    # Dropout rate for regularization\n",
    "        self.dense_units1 = dense_units1          # Units in first dense layer\n",
    "        self.dense_units2 = dense_units2          # Units in second dense layer\n",
    "        self.l2_reg = l2_reg                      # L2 regularization factor for weights\n",
    "        self.epochs = epochs                      # Number of training epochs\n",
    "        self.batch_size = batch_size              # Batch size for training\n",
    "        self.learning_rate = learning_rate        # Learning rate for optimizer\n",
    "        self.patience = patience                  # Early stopping patience\n",
    "        self.verbose = verbose                    # Verbosity level during training\n",
    "        self.model = None                         # Placeholder for Keras model instance\n",
    "\n",
    "    def fit(self, train_set, val_set=None):\n",
    "        # Call parent class fit to initialize training and validation sets\n",
    "        Recommender.fit(self, train_set, val_set)\n",
    "\n",
    "        # Retrieve total number of users and items from training data\n",
    "        num_users, num_items = train_set.num_users, train_set.num_items\n",
    "\n",
    "        # Input layers for user IDs and item IDs\n",
    "        user_input = Input(shape=(1,), name='user_input')\n",
    "        item_input = Input(shape=(1,), name='item_input')\n",
    "\n",
    "        # User and item embedding layers with L2 regularization\n",
    "        user_embedding = Embedding(input_dim=num_users, output_dim=self.embedding_dim,\n",
    "                                   input_length=1, name='user_embedding',\n",
    "                                   embeddings_regularizer=l2(self.l2_reg))(user_input)\n",
    "        item_embedding = Embedding(input_dim=num_items, output_dim=self.embedding_dim,\n",
    "                                   input_length=1, name='item_embedding',\n",
    "                                   embeddings_regularizer=l2(self.l2_reg))(item_input)\n",
    "\n",
    "        # Flatten embedding outputs to feed into dense layers\n",
    "        user_flatten = Flatten()(user_embedding)\n",
    "        item_flatten = Flatten()(item_embedding)\n",
    "\n",
    "        # Concatenate user and item embeddings into one feature vector\n",
    "        concat = Concatenate()([user_flatten, item_flatten])\n",
    "\n",
    "        # First dense layer with ReLU activation, batch normalization, and dropout\n",
    "        dense1 = Dense(self.dense_units1, activation='relu',\n",
    "                       kernel_regularizer=l2(self.l2_reg))(concat)\n",
    "        batch_norm1 = BatchNormalization()(dense1)\n",
    "        dropout1 = Dropout(self.dropout)(batch_norm1)\n",
    "\n",
    "        # Second dense layer with ReLU activation, batch normalization, and dropout\n",
    "        dense2 = Dense(self.dense_units2, activation='relu',\n",
    "                       kernel_regularizer=l2(self.l2_reg))(dropout1)\n",
    "        batch_norm2 = BatchNormalization()(dense2)\n",
    "        dropout2 = Dropout(self.dropout)(batch_norm2)\n",
    "\n",
    "        # Output layer with linear activation predicting the rating\n",
    "        output = Dense(1, activation='linear')(dropout2)\n",
    "\n",
    "        # Define the full Keras model mapping user and item inputs to predicted rating\n",
    "        self.model = Model(inputs=[user_input, item_input],\n",
    "                           outputs=output)\n",
    "\n",
    "        # Compile the model with Adam optimizer and mean squared error loss function\n",
    "        self.model.compile(optimizer=Adam(learning_rate=self.learning_rate),\n",
    "                           loss='mean_squared_error')\n",
    "\n",
    "        # Extract user IDs, item IDs, and ratings from the training set\n",
    "        user_ids, item_ids, ratings = train_set.uir_tuple\n",
    "        user_ids = np.array(user_ids, dtype=np.int64)\n",
    "        item_ids = np.array(item_ids, dtype=np.int64)\n",
    "        ratings = np.array(ratings, dtype=np.float32)\n",
    "\n",
    "        # Setup early stopping callback to prevent overfitting\n",
    "        callbacks = [tf.keras.callbacks.EarlyStopping(monitor='val_loss',\n",
    "                                                      patience=self.patience,\n",
    "                                                      restore_best_weights=True)]\n",
    "\n",
    "        # If validation set is provided, prepare validation data and fit the model with validation\n",
    "        if val_set is not None:\n",
    "            val_user_ids, val_item_ids, val_ratings = val_set.uir_tuple\n",
    "            val_user_ids = np.array(val_user_ids, dtype=np.int64)\n",
    "            val_item_ids = np.array(val_item_ids, dtype=np.int64)\n",
    "            val_ratings = np.array(val_ratings, dtype=np.float32)\n",
    "\n",
    "            self.model.fit([user_ids, item_ids],\n",
    "                           ratings,\n",
    "                           validation_data=([val_user_ids, val_item_ids], val_ratings),\n",
    "                           epochs=self.epochs,\n",
    "                           batch_size=self.batch_size,\n",
    "                           verbose=self.verbose, callbacks=callbacks)\n",
    "        else:\n",
    "            # Fit model without validation data if no validation set is given\n",
    "            self.model.fit([user_ids, item_ids], ratings, epochs=self.epochs,\n",
    "                           batch_size=self.batch_size,\n",
    "                           verbose=self.verbose,\n",
    "                           callbacks=callbacks)\n",
    "\n",
    "        return self\n",
    "\n",
    "    def score(self, user_idx, item_idx=None):\n",
    "        # If predictions are not precomputed, generate predictions for all user-item pairs\n",
    "        if not hasattr(self, 'predictions'):\n",
    "            user_indices = np.repeat(np.arange(self.train_set.num_users),\n",
    "                                     self.train_set.num_items)\n",
    "            item_indices = np.tile(np.arange(self.train_set.num_items),\n",
    "                                   self.train_set.num_users)\n",
    "\n",
    "            # Predict ratings in batch and reshape to user x item matrix\n",
    "            self.predictions = self.model.predict([user_indices, item_indices],\n",
    "                                                  batch_size=2048, verbose=0).reshape(self.train_set.num_users,\n",
    "                                                                                      self.train_set.num_items)\n",
    "\n",
    "        # Return predictions for a single user (all items) or for specific user-item pair\n",
    "        if item_idx is None:\n",
    "            return self.predictions[user_idx, :]\n",
    "        else:\n",
    "            return self.predictions[user_idx, item_idx]"
   ]
  },
  {
   "cell_type": "code",
   "execution_count": null,
   "metadata": {
    "colab": {
     "base_uri": "https://localhost:8080/",
     "height": 1000,
     "referenced_widgets": [
      "4fd12cc741024c2d9e00972a404b670f",
      "77ae6d02951b43959e997b2cca9e055f",
      "f4513c3e44554b48a7c1c9796f502666",
      "e6866ed0a474464da9bcc6cdce12db84",
      "80c51de9f53d43e6acc904d31949bbdb",
      "150beba585a74db9a3f2c75694f8b145",
      "b7a4dc5c342e4ac98191419fbc426e54",
      "359346a6975f4524b7aadd9314f0429a",
      "1a59ee63e88b4d61a3d9b134aae82cb0",
      "7f27f5a8a1cf4f59ab03acde1aa9943f",
      "986234ab1ba44d01aafa19dc84017614",
      "5e23b1c1bc324f01b4dbf4a5952e9824",
      "41cc265818bf45b0b4f6063780c678bc",
      "a4d374ce2bcc4918baf8880883dc053a",
      "0407d82df4b942409ba2b9fed10f6c42",
      "7716bb2db1a44136b6766e04f6748a7a",
      "df86f29de949406f91a061b4b52bb9b7",
      "3baf5b2d67634860b21cd68a66e0f682",
      "de8b254198934a5eadf64e81187a0ba5",
      "bd186e523ac14bbc8df4477b647ff67a",
      "261fcf19c01142b78ab066394e173a0e",
      "c52a47fccb0a452d9fa04850a52e2f77"
     ]
    },
    "id": "mT6MtCOqcBSv",
    "outputId": "37affb2e-6f7a-4115-e912-bac8bdd9fa21"
   },
   "outputs": [
    {
     "output_type": "stream",
     "name": "stdout",
     "text": [
      "\n",
      "[NR] Training started!\n"
     ]
    },
    {
     "output_type": "stream",
     "name": "stderr",
     "text": [
      "/usr/local/lib/python3.11/dist-packages/keras/src/layers/core/embedding.py:90: UserWarning: Argument `input_length` is deprecated. Just remove it.\n",
      "  warnings.warn(\n"
     ]
    },
    {
     "output_type": "stream",
     "name": "stdout",
     "text": [
      "Epoch 1/50\n",
      "\u001b[1m1421/1421\u001b[0m \u001b[32m━━━━━━━━━━━━━━━━━━━━\u001b[0m\u001b[37m\u001b[0m \u001b[1m27s\u001b[0m 17ms/step - loss: 22.5568 - val_loss: 17.8412\n",
      "Epoch 2/50\n",
      "\u001b[1m1421/1421\u001b[0m \u001b[32m━━━━━━━━━━━━━━━━━━━━\u001b[0m\u001b[37m\u001b[0m \u001b[1m22s\u001b[0m 16ms/step - loss: 15.1723 - val_loss: 10.5601\n",
      "Epoch 3/50\n",
      "\u001b[1m1421/1421\u001b[0m \u001b[32m━━━━━━━━━━━━━━━━━━━━\u001b[0m\u001b[37m\u001b[0m \u001b[1m21s\u001b[0m 15ms/step - loss: 8.5393 - val_loss: 4.5799\n",
      "Epoch 4/50\n",
      "\u001b[1m1421/1421\u001b[0m \u001b[32m━━━━━━━━━━━━━━━━━━━━\u001b[0m\u001b[37m\u001b[0m \u001b[1m42s\u001b[0m 16ms/step - loss: 4.2665 - val_loss: 1.6693\n",
      "Epoch 5/50\n",
      "\u001b[1m1421/1421\u001b[0m \u001b[32m━━━━━━━━━━━━━━━━━━━━\u001b[0m\u001b[37m\u001b[0m \u001b[1m41s\u001b[0m 16ms/step - loss: 2.6759 - val_loss: 0.9737\n",
      "Epoch 6/50\n",
      "\u001b[1m1421/1421\u001b[0m \u001b[32m━━━━━━━━━━━━━━━━━━━━\u001b[0m\u001b[37m\u001b[0m \u001b[1m24s\u001b[0m 17ms/step - loss: 2.2978 - val_loss: 0.8843\n",
      "Epoch 7/50\n",
      "\u001b[1m1421/1421\u001b[0m \u001b[32m━━━━━━━━━━━━━━━━━━━━\u001b[0m\u001b[37m\u001b[0m \u001b[1m39s\u001b[0m 16ms/step - loss: 2.0496 - val_loss: 0.8377\n",
      "Epoch 8/50\n",
      "\u001b[1m1421/1421\u001b[0m \u001b[32m━━━━━━━━━━━━━━━━━━━━\u001b[0m\u001b[37m\u001b[0m \u001b[1m22s\u001b[0m 16ms/step - loss: 1.8719 - val_loss: 0.8199\n",
      "Epoch 9/50\n",
      "\u001b[1m1421/1421\u001b[0m \u001b[32m━━━━━━━━━━━━━━━━━━━━\u001b[0m\u001b[37m\u001b[0m \u001b[1m43s\u001b[0m 17ms/step - loss: 1.7240 - val_loss: 0.7706\n",
      "Epoch 10/50\n",
      "\u001b[1m1421/1421\u001b[0m \u001b[32m━━━━━━━━━━━━━━━━━━━━\u001b[0m\u001b[37m\u001b[0m \u001b[1m23s\u001b[0m 16ms/step - loss: 1.5804 - val_loss: 0.7214\n",
      "Epoch 11/50\n",
      "\u001b[1m1421/1421\u001b[0m \u001b[32m━━━━━━━━━━━━━━━━━━━━\u001b[0m\u001b[37m\u001b[0m \u001b[1m42s\u001b[0m 17ms/step - loss: 1.4905 - val_loss: 0.7067\n",
      "Epoch 12/50\n",
      "\u001b[1m1421/1421\u001b[0m \u001b[32m━━━━━━━━━━━━━━━━━━━━\u001b[0m\u001b[37m\u001b[0m \u001b[1m25s\u001b[0m 18ms/step - loss: 1.4052 - val_loss: 0.6699\n",
      "Epoch 13/50\n",
      "\u001b[1m1421/1421\u001b[0m \u001b[32m━━━━━━━━━━━━━━━━━━━━\u001b[0m\u001b[37m\u001b[0m \u001b[1m24s\u001b[0m 17ms/step - loss: 1.3040 - val_loss: 0.6279\n",
      "Epoch 14/50\n",
      "\u001b[1m1421/1421\u001b[0m \u001b[32m━━━━━━━━━━━━━━━━━━━━\u001b[0m\u001b[37m\u001b[0m \u001b[1m23s\u001b[0m 16ms/step - loss: 1.2157 - val_loss: 0.6026\n",
      "Epoch 15/50\n",
      "\u001b[1m1421/1421\u001b[0m \u001b[32m━━━━━━━━━━━━━━━━━━━━\u001b[0m\u001b[37m\u001b[0m \u001b[1m39s\u001b[0m 14ms/step - loss: 1.1248 - val_loss: 0.5524\n",
      "Epoch 16/50\n",
      "\u001b[1m1421/1421\u001b[0m \u001b[32m━━━━━━━━━━━━━━━━━━━━\u001b[0m\u001b[37m\u001b[0m \u001b[1m22s\u001b[0m 15ms/step - loss: 1.0275 - val_loss: 0.5167\n",
      "Epoch 17/50\n",
      "\u001b[1m1421/1421\u001b[0m \u001b[32m━━━━━━━━━━━━━━━━━━━━\u001b[0m\u001b[37m\u001b[0m \u001b[1m39s\u001b[0m 14ms/step - loss: 0.9235 - val_loss: 0.5145\n",
      "Epoch 18/50\n",
      "\u001b[1m1421/1421\u001b[0m \u001b[32m━━━━━━━━━━━━━━━━━━━━\u001b[0m\u001b[37m\u001b[0m \u001b[1m21s\u001b[0m 15ms/step - loss: 0.8580 - val_loss: 0.4617\n",
      "Epoch 19/50\n",
      "\u001b[1m1421/1421\u001b[0m \u001b[32m━━━━━━━━━━━━━━━━━━━━\u001b[0m\u001b[37m\u001b[0m \u001b[1m41s\u001b[0m 15ms/step - loss: 0.7849 - val_loss: 0.4480\n",
      "Epoch 20/50\n",
      "\u001b[1m1421/1421\u001b[0m \u001b[32m━━━━━━━━━━━━━━━━━━━━\u001b[0m\u001b[37m\u001b[0m \u001b[1m23s\u001b[0m 16ms/step - loss: 0.7382 - val_loss: 0.4355\n",
      "Epoch 21/50\n",
      "\u001b[1m1421/1421\u001b[0m \u001b[32m━━━━━━━━━━━━━━━━━━━━\u001b[0m\u001b[37m\u001b[0m \u001b[1m39s\u001b[0m 15ms/step - loss: 0.6971 - val_loss: 0.4249\n",
      "Epoch 22/50\n",
      "\u001b[1m1421/1421\u001b[0m \u001b[32m━━━━━━━━━━━━━━━━━━━━\u001b[0m\u001b[37m\u001b[0m \u001b[1m24s\u001b[0m 17ms/step - loss: 0.6664 - val_loss: 0.3936\n",
      "Epoch 23/50\n",
      "\u001b[1m1421/1421\u001b[0m \u001b[32m━━━━━━━━━━━━━━━━━━━━\u001b[0m\u001b[37m\u001b[0m \u001b[1m42s\u001b[0m 17ms/step - loss: 0.6442 - val_loss: 0.3964\n",
      "Epoch 24/50\n",
      "\u001b[1m1421/1421\u001b[0m \u001b[32m━━━━━━━━━━━━━━━━━━━━\u001b[0m\u001b[37m\u001b[0m \u001b[1m25s\u001b[0m 17ms/step - loss: 0.6166 - val_loss: 0.4185\n",
      "Epoch 25/50\n",
      "\u001b[1m1421/1421\u001b[0m \u001b[32m━━━━━━━━━━━━━━━━━━━━\u001b[0m\u001b[37m\u001b[0m \u001b[1m42s\u001b[0m 18ms/step - loss: 0.5942 - val_loss: 0.3987\n",
      "Epoch 26/50\n",
      "\u001b[1m1421/1421\u001b[0m \u001b[32m━━━━━━━━━━━━━━━━━━━━\u001b[0m\u001b[37m\u001b[0m \u001b[1m25s\u001b[0m 17ms/step - loss: 0.5743 - val_loss: 0.3958\n",
      "Epoch 27/50\n",
      "\u001b[1m1421/1421\u001b[0m \u001b[32m━━━━━━━━━━━━━━━━━━━━\u001b[0m\u001b[37m\u001b[0m \u001b[1m41s\u001b[0m 17ms/step - loss: 0.5475 - val_loss: 0.3954\n",
      "\n",
      "[NR] Evaluation started!\n"
     ]
    },
    {
     "output_type": "display_data",
     "data": {
      "text/plain": [
       "Rating:   0%|          | 0/4753 [00:00<?, ?it/s]"
      ],
      "application/vnd.jupyter.widget-view+json": {
       "version_major": 2,
       "version_minor": 0,
       "model_id": "4fd12cc741024c2d9e00972a404b670f"
      }
     },
     "metadata": {}
    },
    {
     "output_type": "display_data",
     "data": {
      "text/plain": [
       "Rating:   0%|          | 0/4673 [00:00<?, ?it/s]"
      ],
      "application/vnd.jupyter.widget-view+json": {
       "version_major": 2,
       "version_minor": 0,
       "model_id": "5e23b1c1bc324f01b4dbf4a5952e9824"
      }
     },
     "metadata": {}
    },
    {
     "output_type": "stream",
     "name": "stdout",
     "text": [
      "\n",
      "VALIDATION:\n",
      "...\n",
      "   |    MAE |    MSE |   RMSE | Time (s)\n",
      "-- + ------ + ------ + ------ + --------\n",
      "NR | 0.2980 | 0.3393 | 0.3022 |   1.3883\n",
      "\n",
      "TEST:\n",
      "...\n",
      "   |    MAE |    MSE |   RMSE | Train (s) | Test (s)\n",
      "-- + ------ + ------ + ------ + --------- + --------\n",
      "NR | 0.3216 | 0.4139 | 0.3261 |  857.0685 | 279.9042\n",
      "\n"
     ]
    }
   ],
   "source": [
    "# Initiate the custom Neural_Rating recommender model with default parameters\n",
    "NR = Neural_Rating()\n",
    "\n",
    "# Set up a Cornac experiment using the previously defined RatioSplit evaluation method (rs)\n",
    "# Include the custom model NR in the list of models to evaluate\n",
    "# Use MAE, RMSE, and MSE as evaluation metrics to assess prediction accuracy\n",
    "# Enable verbose mode for detailed output during training and evaluation\n",
    "# Specify user_based=True to indicate evaluation per user\n",
    "experiment = cornac.Experiment(\n",
    "    eval_method=rs,\n",
    "    models=[NR],\n",
    "    metrics=[MAE, RMSE, MSE],\n",
    "    verbose=True,\n",
    "    user_based=True\n",
    ")\n",
    "\n",
    "# Run the experiment: this will train NR on the training data,\n",
    "# validate on the validation set, and evaluate performance on the test set\n",
    "experiment.run()"
   ]
  }
 ],
 "metadata": {
  "colab": {
   "gpuType": "T4",
   "machine_shape": "hm",
   "provenance": []
  },
  "kernelspec": {
   "display_name": "Python 3",
   "name": "python3"
  },
  "language_info": {
   "name": "python"
  }
 },
 "nbformat": 4,
 "nbformat_minor": 0
}
